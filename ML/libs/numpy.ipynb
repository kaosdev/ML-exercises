{
 "cells": [
  {
   "cell_type": "heading",
   "metadata": {
    "collapsed": true
   },
   "level": 1,
   "source": [
    "Numpy"
   ]
  },
  {
   "cell_type": "markdown",
   "metadata": {},
   "source": [
    "NumPy is the fundamental package for scientific computing with Python.\n",
    "It contains among other things:\n",
    "<ul>\n",
    "  <li>a powerful N-dimensional array object</li>\n",
    "  <li>sophisticated (broadcasting) functions</li>\n",
    "  <li>tools for integrating C/C++ and Fortran code</li>\n",
    "  <li>useful linear algebra, Fourier transform, and random number capabilities</li>\n",
    "</ul>\n",
    "\n",
    "Besides its obvious scientific uses, NumPy can also be used as a generic multi-dimensional container of generic data. Arbitrary data-types can be defined. This allows Numpy to seamlessly and speedily integrate with a wide variety of databases."
   ]
  },
  {
   "cell_type": "code",
   "execution_count": 1,
   "metadata": {},
   "outputs": [],
   "source": []
  },
  {
   "cell_type": "code",
   "execution_count": null,
   "metadata": {},
   "outputs": [],
   "source": []
  }
 ],
 "metadata": {
  "kernelspec": {
   "display_name": "Python 2",
   "language": "python",
   "name": "python2"
  },
  "language_info": {
   "codemirror_mode": {
    "name": "ipython",
    "version": 2
   },
   "file_extension": ".py",
   "mimetype": "text/x-python",
   "name": "python",
   "nbconvert_exporter": "python",
   "pygments_lexer": "ipython2",
   "version": "2.7.6"
  }
 },
 "nbformat": 4,
 "nbformat_minor": 0
}
